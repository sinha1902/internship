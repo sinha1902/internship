{
 "cells": [
  {
   "cell_type": "markdown",
   "id": "0dfef7b3",
   "metadata": {},
   "source": [
    "Python program to find the factorial of a number provided by the user."
   ]
  },
  {
   "cell_type": "code",
   "execution_count": 4,
   "id": "5632b29b",
   "metadata": {},
   "outputs": [
    {
     "name": "stdout",
     "output_type": "stream",
     "text": [
      "enter a number: 5\n",
      "the factorial of 5 is 120\n"
     ]
    }
   ],
   "source": [
    "# Python program to find the factorial of a number provided by the user.\n",
    "fact=1\n",
    "num=int(input('enter a number: '))\n",
    "org = num\n",
    "while num > 0:\n",
    "              fact = fact*num\n",
    "              num=num-1\n",
    "print('the factorial of',org,'is',fact)  "
   ]
  },
  {
   "cell_type": "markdown",
   "id": "c352b0b1",
   "metadata": {},
   "source": [
    "prime and composite"
   ]
  },
  {
   "cell_type": "code",
   "execution_count": 9,
   "id": "94ec9e68",
   "metadata": {},
   "outputs": [
    {
     "name": "stdout",
     "output_type": "stream",
     "text": [
      "Enter any number : 0\n",
      "0 is a neither prime NOR composite number\n"
     ]
    }
   ],
   "source": [
    "# prime and composite\n",
    "\n",
    "num = int(input(\"Enter any number : \"))\n",
    "if num > 1:\n",
    "    for i in range(2, num):\n",
    "        if (num % i) == 0:\n",
    "            print(num, \"is NOT a prime number\")\n",
    "            break\n",
    "    else:\n",
    "        print(num, \"is a PRIME number\")\n",
    "elif num == 0 or 1:\n",
    "    print(num, \"is a neither prime NOR composite number\")\n"
   ]
  },
  {
   "cell_type": "markdown",
   "id": "68ab78a5",
   "metadata": {},
   "source": [
    "palindrome or not using slicing"
   ]
  },
  {
   "cell_type": "code",
   "execution_count": 21,
   "id": "4da2ec03",
   "metadata": {},
   "outputs": [
    {
     "name": "stdout",
     "output_type": "stream",
     "text": [
      " enter a string : madam\n",
      "This is a Palindrome String\n"
     ]
    }
   ],
   "source": [
    "# palindrome or not using slicing\n",
    "string = input(\" enter a string : \")\n",
    "if(string==string[::-1]):  \n",
    "   print(\"This is a Palindrome String\")\n",
    "else:\n",
    "   print(\"This is Not a palindrome string\")"
   ]
  },
  {
   "cell_type": "markdown",
   "id": "54070cbc",
   "metadata": {},
   "source": [
    "third side of a right angle triangle if two side given"
   ]
  },
  {
   "cell_type": "code",
   "execution_count": 18,
   "id": "4578452b",
   "metadata": {},
   "outputs": [
    {
     "name": "stdout",
     "output_type": "stream",
     "text": [
      "Hypotenuse = 5.0\n",
      "Adjacent = 4.0\n",
      "Opposite = 3.0\n",
      "You know the answer!\n"
     ]
    }
   ],
   "source": [
    "# right angle\n",
    "\n",
    "def pythagoras(opposite_side,adjacent_side,hypotenuse):\n",
    "        if opposite_side == str(\"x\"):\n",
    "            return (\"Opposite = \" + str(((hypotenuse**2) - (adjacent_side**2))**0.5))\n",
    "        elif adjacent_side == str(\"x\"):\n",
    "            return (\"Adjacent = \" + str(((hypotenuse**2) - (opposite_side**2))**0.5))\n",
    "        elif hypotenuse == str(\"x\"):\n",
    "            return (\"Hypotenuse = \" + str(((opposite_side**2) + (adjacent_side**2))**0.5))\n",
    "        else:\n",
    "            return \"You know the answer!\"\n",
    "    \n",
    "print(pythagoras(3,4,'x'))\n",
    "print(pythagoras(3,'x',5))\n",
    "print(pythagoras('x',4,5))\n",
    "print(pythagoras(3,4,5))"
   ]
  },
  {
   "cell_type": "markdown",
   "id": "779adbbc",
   "metadata": {},
   "source": [
    "frequuency of character"
   ]
  },
  {
   "cell_type": "code",
   "execution_count": 20,
   "id": "0f54977f",
   "metadata": {},
   "outputs": [
    {
     "name": "stdout",
     "output_type": "stream",
     "text": [
      "enter a string: aabhggkrrr\n",
      "Frequency of each character :\n",
      "  {'a': 2, 'b': 1, 'h': 1, 'g': 2, 'k': 1, 'r': 3}\n"
     ]
    }
   ],
   "source": [
    "# frequuency of character\n",
    "str1 = input('enter a string: ')\n",
    "d1=dict()\n",
    "for car in str1:\n",
    "    d1[car]= d1.get(car,0)+1\n",
    "print (\"Frequency of each character :\\n \",d1)    "
   ]
  },
  {
   "cell_type": "code",
   "execution_count": null,
   "id": "7a82923e",
   "metadata": {},
   "outputs": [],
   "source": []
  }
 ],
 "metadata": {
  "kernelspec": {
   "display_name": "Python 3 (ipykernel)",
   "language": "python",
   "name": "python3"
  },
  "language_info": {
   "codemirror_mode": {
    "name": "ipython",
    "version": 3
   },
   "file_extension": ".py",
   "mimetype": "text/x-python",
   "name": "python",
   "nbconvert_exporter": "python",
   "pygments_lexer": "ipython3",
   "version": "3.9.7"
  }
 },
 "nbformat": 4,
 "nbformat_minor": 5
}
